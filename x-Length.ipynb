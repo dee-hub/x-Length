{
 "cells": [
  {
   "cell_type": "raw",
   "id": "eebc4917",
   "metadata": {},
   "source": [
    "---\n",
    "title: x-Length App\n",
    "description: Get your measurements with just your picture and a reference image. Upload your full body image holding the reference image.\n",
    "show-code: False\n",
    "params:\n",
    "    image_path:\n",
    "        label: Select your full body image with the reference object\n",
    "        input: file\n",
    "        maxFileSize: 10MB\n",
    "---"
   ]
  },
  {
   "cell_type": "code",
   "execution_count": null,
   "id": "08284f07",
   "metadata": {},
   "outputs": [],
   "source": [
    "import cv2\n",
    "import mediapipe as mp\n",
    "import matplotlib.pyplot as plt"
   ]
  },
  {
   "cell_type": "code",
   "execution_count": null,
   "id": "95c3eb9f",
   "metadata": {},
   "outputs": [],
   "source": [
    "# Initialize mediapipe pose class.\n",
    "mp_pose = mp.solutions.pose\n",
    "\n",
    "# Setup the Pose function for images - independently for the images standalone processing.\n",
    "pose_image = mp_pose.Pose(static_image_mode=True, min_detection_confidence=0.8)\n",
    "\n",
    "# Initialize mediapipe drawing class - to draw the landmarks points.\n",
    "mp_drawing = mp.solutions.drawing_utils"
   ]
  },
  {
   "cell_type": "markdown",
   "id": "cb240ed5",
   "metadata": {},
   "source": [
    "## Body Landmark Extraction"
   ]
  },
  {
   "cell_type": "code",
   "execution_count": null,
   "id": "5f03be83",
   "metadata": {},
   "outputs": [],
   "source": [
    "image_path = \"specimen3.jpg\""
   ]
  },
  {
   "cell_type": "code",
   "execution_count": null,
   "id": "1889a855",
   "metadata": {},
   "outputs": [],
   "source": [
    "output = cv2.imread(image_path)\n",
    "original_image = output.copy()\n",
    "image_in_RGB = cv2.cvtColor(output, cv2.COLOR_RGB2BGR)\n",
    "resultant = pose_image.process(image_in_RGB)\n",
    "mp_drawing.draw_landmarks(image=original_image, landmark_list=resultant.pose_landmarks,\n",
    "                          connections=mp_pose.POSE_CONNECTIONS,\n",
    "                          landmark_drawing_spec=mp_drawing.DrawingSpec(color=(0,0,0), thickness=5, circle_radius=3),\n",
    "                          connection_drawing_spec=mp_drawing.DrawingSpec(color=(255,255,255), thickness=5, circle_radius=3))\n",
    "figures, axis = plt.subplots(1,2, figsize=(22,22))\n",
    "axis[0].title.set_text('Original')\n",
    "axis[0].imshow(output[:,:,::-1])\n",
    "axis[1].title.set_text('Landmarked Image')\n",
    "axis[1].imshow(original_image[:,:,::-1])\n",
    "\n",
    "\n",
    "#plt.figure(figsize=[22,22])\n",
    "#plt.subplot(121);plt.imshow(output[:,:,::-1]);plt.title(\"Input Image\");plt.axis('off');\n",
    "#plt.subplot(122);plt.imshow(original_image[:,:,::-1]);plt.title(\"Pose detected Image\");plt.axis('off');"
   ]
  },
  {
   "cell_type": "code",
   "execution_count": null,
   "id": "eefa7f7c",
   "metadata": {},
   "outputs": [],
   "source": []
  },
  {
   "cell_type": "markdown",
   "id": "a35a98a3",
   "metadata": {},
   "source": [
    "## Unscaled Measurements"
   ]
  },
  {
   "cell_type": "code",
   "execution_count": null,
   "id": "e62b3227",
   "metadata": {},
   "outputs": [],
   "source": [
    "output = cv2.imread(image_path)\n",
    "h, w = output.shape[:2]\n",
    "mp_pose = mp.solutions.pose\n",
    "pose = mp_pose.Pose()\n",
    "keypoints = pose.process(output)\n",
    "lm = keypoints.pose_landmarks\n",
    "lmPose  = mp_pose.PoseLandmark\n",
    "\n",
    "#Shoulder to Shoulder Measurements\n",
    "# Left shoulder.\n",
    "l_shldr_x = int(lm.landmark[lmPose.LEFT_SHOULDER].x * w)\n",
    "l_shldr_y = int(lm.landmark[lmPose.LEFT_SHOULDER].y * h)\n",
    "# Right shoulder.\n",
    "r_shldr_x = int(lm.landmark[lmPose.RIGHT_SHOULDER].x * w)\n",
    "r_shldr_y = int(lm.landmark[lmPose.RIGHT_SHOULDER].y * h)\n",
    "\n",
    "#Right Shoulder to Wrist Measurements\n",
    "# Right wrist.\n",
    "r_wrist_x = int(lm.landmark[lmPose.RIGHT_WRIST].x * w)\n",
    "r_wrist_y = int(lm.landmark[lmPose.RIGHT_WRIST].y * h)\n",
    "\n",
    "#Left Shoulder to Wrist Measurements\n",
    "# Left wrist.\n",
    "l_wrist_x = int(lm.landmark[lmPose.LEFT_WRIST].x * w)\n",
    "l_wrist_y = int(lm.landmark[lmPose.LEFT_WRIST].y * h)\n",
    "\n",
    "#Right Shoulder to Hip Measurements\n",
    "# Right Hip.\n",
    "r_hip_x = int(lm.landmark[lmPose.RIGHT_HIP].x * w)\n",
    "r_hip_y = int(lm.landmark[lmPose.RIGHT_HIP].y * h)\n",
    "\n",
    "#Left Shoulder to Hip Measurements\n",
    "# Left hip.\n",
    "l_hip_x = int(lm.landmark[lmPose.LEFT_HIP].x * w)\n",
    "l_hip_y = int(lm.landmark[lmPose.LEFT_HIP].y * h)\n",
    "\n",
    "#Right hip to Ankle Measurements\n",
    "# Right Ankle.\n",
    "r_ankle_x = int(lm.landmark[lmPose.RIGHT_ANKLE].x * w)\n",
    "r_ankle_y = int(lm.landmark[lmPose.RIGHT_ANKLE].y * h)\n",
    "\n",
    "#Left hip to Ankle Measurements\n",
    "# Left Ankle.\n",
    "l_ankle_x = int(lm.landmark[lmPose.LEFT_ANKLE].x * w)\n",
    "l_ankle_y = int(lm.landmark[lmPose.LEFT_ANKLE].y * h)\n",
    "\n",
    "import math as m\n",
    "def findDistance(x1, y1, x2, y2):\n",
    "    dist = m.sqrt((x2-x1)**2+(y2-y1)**2)\n",
    "    return dist\n",
    "shoulder_to_shoulder = findDistance(l_shldr_x, l_shldr_y, r_shldr_x, r_shldr_y)\n",
    "shoulder_to_right_wrist = findDistance(r_shldr_x, r_shldr_y, r_wrist_x, r_wrist_y)\n",
    "shoulder_to_left_wrist = findDistance(l_shldr_x, l_shldr_y, l_wrist_x, l_wrist_y)\n",
    "shoulder_to_right_hip = findDistance(r_shldr_x, r_shldr_y, r_hip_x, r_hip_y)\n",
    "shoulder_to_left_hip = findDistance(l_shldr_x, l_shldr_y, l_hip_x, l_hip_y)\n",
    "hip_to_right_ankle = findDistance(r_hip_x, r_hip_y, r_ankle_x, r_ankle_y)\n",
    "hip_to_left_ankle = findDistance(l_hip_x, l_hip_y, l_ankle_x, l_ankle_y)\n",
    "shoulder_to_right_ankle = findDistance(r_shldr_x, r_shldr_y, r_ankle_x, r_ankle_y)\n",
    "shoulder_to_left_ankle = findDistance(l_shldr_x, l_shldr_y, l_ankle_x, l_ankle_y)\n",
    "\n",
    "print(\"\\n\\n\\t UNSCALED MEASUREMENTS (cm)\")\n",
    "print(\"Shoulder Length = \", shoulder_to_shoulder)\n",
    "print(\"Arm Length = \", shoulder_to_right_wrist)\n",
    "print(\"Shoulder to Hip = \", shoulder_to_right_hip)\n",
    "print(\"Trouser Length = \", hip_to_right_ankle)\n",
    "print(\"Full Body Length (Gown) = \", shoulder_to_right_ankle)"
   ]
  },
  {
   "cell_type": "markdown",
   "id": "2f3d87d9",
   "metadata": {},
   "source": [
    "## Reference Image Extraction"
   ]
  },
  {
   "cell_type": "code",
   "execution_count": null,
   "id": "436dd6af",
   "metadata": {},
   "outputs": [],
   "source": [
    "# Initialise kernel for erosion/dilation\n",
    "import numpy as np\n",
    "kernel = np.ones((5,5),np.uint8)\n",
    "\n",
    "img = cv2.imread(image_path) # Read image\n",
    "img = cv2.cvtColor(img, cv2.COLOR_BGR2RGB) # Convert BGR (CV2 standard to RGB for proper viewing)\n",
    "gray = cv2.cvtColor(img, cv2.COLOR_RGB2GRAY) # Convert RGB to Gray\n",
    "erode = cv2.erode(gray, kernel, iterations = 5) # Apply erosion\n",
    "dilate = cv2.dilate(erode, kernel, iterations = 3) # Apply dilation\n",
    "blur = cv2.GaussianBlur(dilate, (15,15), 0) # Apply guassian blur to image (to merge small items/elements) (i.e. to smooth out the edges)\n",
    "edged = cv2.Canny(blur, 130, 270) # Get edges\n",
    "\n",
    "# Show image\n",
    "#figures, axis = plt.subplots(2,2, figsize=(50,50))\n",
    "#axis[0,0].title.set_text('Original')\n",
    "#axis[0,0].imshow(img)\n",
    "#axis[0,1].title.set_text('Gray')\n",
    "#axis[0,1].imshow(gray, cmap = 'gray')\n",
    "#axis[1,0].title.set_text('blurred')\n",
    "#axis[1,0].imshow(blur, cmap = 'gray')\n",
    "#axis[1,1].title.set_text('Edged')\n",
    "#axis[1,1].imshow(edged)\n"
   ]
  },
  {
   "cell_type": "code",
   "execution_count": null,
   "id": "aa5fd981",
   "metadata": {},
   "outputs": [],
   "source": [
    "image_copy = gray.copy()\n",
    "# Convert gray image to colored (doesn't actually return the colors to the picture but allows drawing colors onto it)\n",
    "image_copy = cv2.cvtColor(image_copy, cv2.COLOR_GRAY2RGB)\n",
    "\n",
    "# Draw contours\n",
    "contours, hierarchy = cv2.findContours(edged, mode = cv2.RETR_EXTERNAL, method = cv2.CHAIN_APPROX_NONE)\n",
    "cv2.drawContours(image_copy, contours, -1, (255, 0, 0), 5)\n",
    "\n",
    "# Show image\n",
    "#fig=plt.figure(figsize=(15,15))\n",
    "#plt.imshow(image_copy)\n",
    "\n",
    "# Return values\n",
    "#image_copy\n",
    "\n",
    "########################################Sqaure Extraction###########################################\n",
    "for ct in contours:\n",
    "    perimeter = cv2.arcLength(ct, True) # Get contour parameters\n",
    "    sides = cv2.approxPolyDP(ct, 0.02 * perimeter, True)\n",
    "    if len(sides) == 4:\n",
    "        measures = ct\n",
    "\n",
    "image_copy = gray.copy()\n",
    "# Convert gray image to colored (doesn't actually return the colors to the picture but allows drawing colors onto it)\n",
    "image_copy = cv2.cvtColor(image_copy, cv2.COLOR_GRAY2RGB)\n",
    "# Draw contours\n",
    "cv2.drawContours(image_copy, measures, -1, (255, 0, 0), 5)\n",
    "# Show image\n",
    "fig=plt.figure(figsize=(10,10))\n",
    "plt.imshow(image_copy)"
   ]
  },
  {
   "cell_type": "markdown",
   "id": "35f1e9ba",
   "metadata": {},
   "source": [
    "## Scaled Measurements"
   ]
  },
  {
   "cell_type": "code",
   "execution_count": null,
   "id": "89987656",
   "metadata": {},
   "outputs": [],
   "source": [
    "measures.shape\n",
    "measures_new = measures.reshape(measures.shape[0],measures.shape[2])\n",
    "measures_added = measures_new.sum(1)\n",
    "\n",
    "# Get the diff between height and width\n",
    "measures_diff = np.diff(measures_new, axis = 1)\n",
    "\n",
    "# Get the 4 corners of the contour\n",
    "corner1 = measures[np.argmin(measures_added)] # Corner 1 (top left)\n",
    "corner4 = measures[np.argmax(measures_added)] # Corner 4 (bottom right)\n",
    "corner2 = measures[np.argmin(measures_diff)] # Corner 2 (top right)\n",
    "corner3 = measures[np.argmax(measures_diff)] # Corner 3 (bottom left)\n",
    "\n",
    "# Get number of pixels to produce 1 centimeter using width\n",
    "centipixel_width = ((corner2[0][0] - corner1[0][0])/15)\n",
    "\n",
    "# Get number of pixels to produce 1 centimeter using height\n",
    "centipixel_height = ((corner3[0][1] - corner1[0][1])/16.5)\n",
    "\n",
    "print('Reference Image Width:', round(centipixel_width,3))\n",
    "print('Reference Image Height:', round(centipixel_height,3))\n",
    "\n",
    "#Extract Measurements \n",
    "print(\"\\n\\n\\t SCALED MEASUREMENTS (cm)\")\n",
    "print(\"Shoulder Length = \", shoulder_to_shoulder/centipixel_width)\n",
    "print(\"Arm Length = \", shoulder_to_right_wrist/centipixel_width)\n",
    "print(\"Shoulder to Hip = \", shoulder_to_right_hip/centipixel_height)\n",
    "print(\"Trouser Length = \", hip_to_right_ankle/centipixel_height)\n",
    "print(\"Full Body Length (Gown) = \", shoulder_to_right_ankle/centipixel_height)\n",
    "\n",
    "#print(\"shoulder to shoulder = \", )\n",
    "#print(\"shoulder to right wrist = \", )\n",
    "#print(\"shoulder to left wrist = \", shoulder_to_left_wrist/centipixel_width)\n",
    "#print(\"shoulder to right hip = \", )\n",
    "#print(\"shoulder to left hip = \", shoulder_to_left_hip/centipixel_height)\n",
    "#print(\"hip to right ankle = \", )\n",
    "#print(\"hip to left ankle = \", hip_to_left_ankle/centipixel_height)\n",
    "#print(\"shoulder to right ankle = \", )\n",
    "#print(\"shoulder to left ankle = \", shoulder_to_left_ankle/centipixel_height)"
   ]
  },
  {
   "cell_type": "code",
   "execution_count": null,
   "id": "6e912528",
   "metadata": {},
   "outputs": [],
   "source": []
  }
 ],
 "metadata": {
  "kernelspec": {
   "display_name": "Python 3",
   "language": "python",
   "name": "python3"
  },
  "language_info": {
   "codemirror_mode": {
    "name": "ipython",
    "version": 3
   },
   "file_extension": ".py",
   "mimetype": "text/x-python",
   "name": "python",
   "nbconvert_exporter": "python",
   "pygments_lexer": "ipython3",
   "version": "3.8.8"
  }
 },
 "nbformat": 4,
 "nbformat_minor": 5
}
